{
 "cells": [
  {
   "cell_type": "code",
   "execution_count": null,
   "id": "cfd00878-a85e-417d-8855-305b222bee01",
   "metadata": {},
   "outputs": [],
   "source": [
    "\n",
    "import numpy as np  # Importing NumPy for numerical operations and array manipulations\n",
    "import matplotlib.pyplot as plt  # Importing Matplotlib for plotting graphs and visualizations\n",
    "import seaborn as sns  # Importing Seaborn for statistical data visualization, built on top of Matplotlib\n",
    "import tensorflow as tf  # Importing TensorFlow for building and training machine learning models\n",
    "from tensorflow import keras  # Importing Keras, a high-level API for TensorFlow, to simplify model building\n",
    "from tensorflow.keras import Layer  # Importing Layer class for creating custom layers in Keras\n",
    "from tensorflow.keras.models import Sequential  # Importing Sequential model for building neural networks layer-by-layer\n",
    "from tensorflow.keras.layers import Rescaling , GlobalAveragePooling2D\n",
    "from tensorflow.keras import layers, optimizers, callbacks  # Importing various modules for layers, optimizers, and callbacks in Keras\n",
    "from sklearn.utils.class_weight import compute_class_weight  # Importing function to compute class weights for imbalanced datasets\n",
    "from tensorflow.keras.applications import EfficientNetV2B2  # Importing EfficientNetV2S model for transfer learning\n",
    "from sklearn.metrics import confusion_matrix, classification_report  # Importing functions to evaluate model performance\n",
    "import gradio as gr  # Importing Gradio for creating interactive web interfaces for machine learning models"
   ]
  },
  {
   "cell_type": "code",
   "execution_count": null,
   "id": "0f2cd363-b153-449d-902a-70788194b8b1",
   "metadata": {},
   "outputs": [],
   "source": [
    "dataset_dir= r\"C:\\Users\\Edunet Foundation\\Downloads\\project\\garbage\\TrashType_Image_Dataset\"\n",
    "image_size = (124, 124)\n",
    "batch_size = 32\n",
    "seed = 42"
   ]
  },
  {
   "cell_type": "code",
   "execution_count": null,
   "id": "bbfb0680-f38a-424d-816f-a58c52eba46a",
   "metadata": {},
   "outputs": [],
   "source": [
    "train_ds = tf.keras.utils.image_dataset_from_directory(\n",
    "    dataset_dir,\n",
    "    validation_split=0.2,\n",
    "    subset=\"training\",\n",
    "    seed=seed,\n",
    "    shuffle = True,\n",
    "    image_size=image_size,\n",
    "    batch_size=batch_size\n",
    ")"
   ]
  },
  {
   "cell_type": "code",
   "execution_count": null,
   "id": "bc253400-7514-413a-927b-1689252080fc",
   "metadata": {},
   "outputs": [],
   "source": [
    "\n",
    "val_ds = tf.keras.utils.image_dataset_from_directory(\n",
    "    dataset_dir,\n",
    "    validation_split=0.2,\n",
    "    subset=\"validation\",\n",
    "    seed=seed,\n",
    "    shuffle = True,\n",
    "    image_size=image_size,\n",
    "    batch_size=batch_size\n",
    ")\n",
    "val_class= val_ds.class_names"
   ]
  },
  {
   "cell_type": "code",
   "execution_count": null,
   "id": "d139fa27-d20d-485c-88e7-d8a14561b748",
   "metadata": {},
   "outputs": [],
   "source": [
    "# Get the total number of batches in the validation dataset\n",
    "val_batches = tf.data.experimental.cardinality(val_ds)  \n",
    "\n",
    "# Split the validation dataset into two equal parts:\n",
    "# First half becomes the test dataset\n",
    "test_ds = val_ds.take(val_batches // 2)  \n",
    "\n",
    "# Second half remains as the validation dataset\n",
    "val_dat = val_ds.skip(val_batches // 2)  \n",
    "\n",
    "# Optimize test dataset by caching and prefetching to improve performance\n",
    "test_ds_eval = test_ds.cache().prefetch(tf.data.AUTOTUNE)  "
   ]
  },
  {
   "cell_type": "code",
   "execution_count": null,
   "id": "6da996ee-6b15-4a5a-89c6-73013a3d3db8",
   "metadata": {},
   "outputs": [],
   "source": [
    "\n",
    "print(train_ds.class_names)\n",
    "print(val_class)\n",
    "print(len(train_ds.class_names))"
   ]
  },
  {
   "cell_type": "markdown",
   "id": "5675405c-473d-4f86-a514-bfaf4a68edb7",
   "metadata": {},
   "source": [
    "### Visualize sample images from each class."
   ]
  },
  {
   "cell_type": "code",
   "execution_count": null,
   "id": "ffbd2220-9c0e-485b-90e8-3ec86034c7a5",
   "metadata": {
    "scrolled": true
   },
   "outputs": [],
   "source": [
    "import matplotlib.pyplot as plt\n",
    "\n",
    "plt.figure(figsize=(10, 10))\n",
    "for images, labels in train_ds.take(1):\n",
    "  for i in range(12):\n",
    "    ax = plt.subplot(4, 3, i + 1)\n",
    "    plt.imshow(images[i].numpy().astype(\"uint8\"))\n",
    "    plt.title(train_ds.class_names[labels[i]])\n",
    "    plt.axis(\"off\")"
   ]
  },
  {
   "cell_type": "markdown",
   "id": "73855bf2-2c41-41d0-bd7b-b3eaff8d122a",
   "metadata": {},
   "source": [
    "- ## Check the number of images per class to ensure balance\n",
    "- ## Understand image properties like Image dimensions, Class labels\n"
   ]
  },
  {
   "cell_type": "code",
   "execution_count": null,
   "id": "1ed9597d-b469-4302-ba28-91751cb548b6",
   "metadata": {},
   "outputs": [],
   "source": [
    "def count_distribution(dataset, class_names):\n",
    "    total = 0\n",
    "    counts = {name: 0 for name in class_names}\n",
    "    \n",
    "    for _, labels in dataset:\n",
    "        for label in labels.numpy():\n",
    "            class_name = class_names[label]\n",
    "            counts[class_name] += 1\n",
    "            total += 1\n",
    "\n",
    "    for k in counts:\n",
    "        counts[k] = round((counts[k] / total) * 100, 2)  # Convert to percentage\n",
    "    return counts\n",
    "\n"
   ]
  },
  {
   "cell_type": "code",
   "execution_count": null,
   "id": "186a75d5-11c6-4d63-ab77-a787969dfd14",
   "metadata": {},
   "outputs": [],
   "source": [
    "# Function to plot class distribution\n",
    "def simple_bar_plot(dist, title):\n",
    "    plt.bar(dist.keys(), dist.values(), color='cornflowerblue')\n",
    "    plt.title(title)\n",
    "    plt.ylabel('Percentage (%)')\n",
    "    plt.xticks(rotation=45)\n",
    "    plt.ylim(0, 100)\n",
    "    plt.tight_layout()\n",
    "    plt.show()\n"
   ]
  },
  {
   "cell_type": "code",
   "execution_count": null,
   "id": "c0651802-9d3b-416d-ac22-4b13d400b43d",
   "metadata": {},
   "outputs": [],
   "source": [
    "class_names = train_ds.class_names\n",
    "\n",
    "# Get class distributions\n",
    "train_dist = count_distribution(train_ds, class_names)\n",
    "val_dist = count_distribution(val_ds, class_names)\n",
    "test_dist = count_distribution(test_ds, class_names)\n",
    "overall_dist = {}\n",
    "for k in class_names:\n",
    "    overall_dist[k] = round((train_dist[k] + val_dist[k]) / 2, 2)\n",
    "\n",
    "print(train_dist)\n",
    "print(val_dist)\n",
    "print(test_dist)\n",
    "print(overall_dist)"
   ]
  },
  {
   "cell_type": "code",
   "execution_count": null,
   "id": "ffc59a74-2686-4036-b7a4-6fb59265009c",
   "metadata": {},
   "outputs": [],
   "source": [
    "\n",
    "# Show visualizations\n",
    "simple_bar_plot(train_dist, \"Training Set Class Distribution (%)\")\n",
    "simple_bar_plot(val_dist, \"Validation Set Class Distribution (%)\")\n",
    "simple_bar_plot(test_dist, \"Test Set Class Distribution (%)\")\n",
    "simple_bar_plot(overall_dist, \"Overall Class Distribution (%)\")"
   ]
  },
  {
   "cell_type": "code",
   "execution_count": null,
   "id": "af495a1b-a1c6-4206-8c55-8e0f6347e733",
   "metadata": {},
   "outputs": [],
   "source": [
    "\n",
    "\n",
    "# Count class occurrences and prepare label list\n",
    "class_counts = {i: 0 for i in range(len(class_names))}\n",
    "all_labels = []\n",
    "\n",
    "for images, labels in train_ds:\n",
    "    for label in labels.numpy():\n",
    "        class_counts[label] += 1\n",
    "        all_labels.append(label)\n",
    "\n",
    "# Compute class weights (index aligned)\n",
    "class_weights_array = compute_class_weight(\n",
    "    class_weight='balanced',\n",
    "    classes=np.arange(len(class_names)),\n",
    "    y=all_labels\n",
    ")\n",
    "\n",
    "# Create dictionary mapping class index to weight\n",
    "class_weights = {i: w for i, w in enumerate(class_weights_array)}\n"
   ]
  },
  {
   "cell_type": "code",
   "execution_count": null,
   "id": "8311ae34-edda-421f-a693-ce278220efac",
   "metadata": {},
   "outputs": [],
   "source": [
    "\n",
    "# ✅ Optional: print results\n",
    "print(\"Class Counts:\", class_counts)\n",
    "print(\"Class Weights:\", class_weights)\n"
   ]
  },
  {
   "cell_type": "markdown",
   "id": "2a920855-e4ed-41da-a7fc-edba08879a09",
   "metadata": {},
   "source": [
    "\n",
    "## 2.  Data Preprocessing / Preparation\n",
    "- Resize and rescale images.\n",
    "- Apply data augmentation (e.g., `RandomFlip`, `RandomRotation`, `RandomZoom`) to improve generalization.\n",
    "- Normalize images (using `preprocess_input` if using pre-trained models like EfficientNet)."
   ]
  },
  {
   "cell_type": "code",
   "execution_count": null,
   "id": "b7e74646-16d3-414f-8013-4a4168b8ff1c",
   "metadata": {},
   "outputs": [],
   "source": [
    "#  Define data augmentation pipeline\n",
    "data_augmentation = Sequential([\n",
    "    layers.RandomFlip(\"horizontal\"),\n",
    "    layers.RandomRotation(0.1),\n",
    "    layers.RandomZoom(0.1),\n",
    "    layers.RandomContrast(0.1),\n",
    "])"
   ]
  },
  {
   "cell_type": "markdown",
   "id": "b417dc72-7946-4650-875d-ac4d278db425",
   "metadata": {},
   "source": [
    "\n",
    "## 3.  Model Selection\n",
    "- Choose a base model: Custom CNN or Transfer Learning (e.g., `EfficientNetV2B2`).\n",
    "- Decide whether to use pre-trained weights (e.g., ImageNet).\n",
    "- Define whether layers should be trainable or frozen during initial training."
   ]
  },
  {
   "cell_type": "code",
   "execution_count": null,
   "id": "c0cbff2e-8132-4d6d-b4cb-db92088f7cd6",
   "metadata": {},
   "outputs": [],
   "source": [
    "#  Load the pretrained MobileNetV3Small model (without the top classification layer)\n",
    "base_model = EfficientNetV2B2(include_top=False, input_shape=(124, 124, 3),include_preprocessing=True, weights='imagenet')\n",
    "\n",
    "\n",
    "#  Freeze early layers (to retain general pretrained features)\n",
    "base_model.trainable = True\n",
    "for layer in base_model.layers[:100]:  # You can adjust this number\n",
    "    layer.trainable = False\n",
    "\n"
   ]
  },
  {
   "cell_type": "markdown",
   "id": "a87504bf-359b-4eaa-b174-a5e3d97e038c",
   "metadata": {},
   "source": [
    "\n",
    "## 4.  Model Training\n",
    "- Build the model architecture using `Sequential` or Functional API.\n",
    "- Compile the model with loss function ( `sparse_categorical_crossentropy`), optimizer (e.g., `Adam`), and evaluation metrics (`accuracy`).\n",
    "\n",
    "## 5.  Model Tuning and Optimization\n",
    "- Tune hyperparameters: learning rate, batch size, number of layers, dropout rate.\n",
    "- Use callbacks: `EarlyStopping`, \n",
    "- Optionally perform fine-tuning on pre-trained models by unfreezing some layers."
   ]
  },
  {
   "cell_type": "code",
   "execution_count": null,
   "id": "d124d5bf-b95c-49dd-a5c8-8ed02e9835dd",
   "metadata": {},
   "outputs": [],
   "source": [
    "#  Build the final model\n",
    "model = Sequential([\n",
    "    layers.Input(shape=(124, 124, 3)),\n",
    "    data_augmentation,\n",
    "    base_model,\n",
    "    GlobalAveragePooling2D(),\n",
    "    layers.Dropout(0.3),\n",
    "    layers.Dense(6, activation='softmax')  # Change to your number of classes\n",
    "])\n"
   ]
  },
  {
   "cell_type": "code",
   "execution_count": null,
   "id": "6e7d39a5-c6f2-42d8-b04d-678e7c1b6914",
   "metadata": {},
   "outputs": [],
   "source": [
    "# ⚙️ Compile the model\n",
    "model.compile(\n",
    "    optimizer=optimizers.Adam(learning_rate=1e-4),\n",
    "    loss='sparse_categorical_crossentropy',\n",
    "    metrics=['accuracy']\n",
    ")\n"
   ]
  },
  {
   "cell_type": "code",
   "execution_count": null,
   "id": "451a8ba6-4c03-42e6-ad19-0465ee2c379a",
   "metadata": {},
   "outputs": [],
   "source": [
    "# Define an EarlyStopping callback to stop training when validation loss stops improving\n",
    "early = tf.keras.callbacks.EarlyStopping(\n",
    "    monitor='val_loss',            # Metric to monitor (validation loss here)\n",
    "    patience=3,                   # Number of epochs to wait after last improvement before stopping\n",
    "    restore_best_weights=True     # After stopping, restore the model weights from the epoch with the best val_loss\n",
    ")\n"
   ]
  },
  {
   "cell_type": "markdown",
   "id": "394ae8ba-d77b-4b4f-85a2-c3ed89b75cb4",
   "metadata": {},
   "source": [
    "### Train the model using `.fit()` with appropriate `epochs`, `batch_size`, and callbacks like `EarlyStopping`."
   ]
  },
  {
   "cell_type": "code",
   "execution_count": null,
   "id": "0011e7c8-d61e-4106-8cd6-48df88e522af",
   "metadata": {},
   "outputs": [],
   "source": [
    "# Set the number of epochs to train the model\n",
    "epochs = 15  # Number of times the model will go through the entire dataset\n",
    "\n",
    "# Train the model using the fit function\n",
    "history = model.fit(\n",
    "    train_ds,                # Training dataset used to adjust model weights\n",
    "    validation_data=val_ds,   # Validation dataset to monitor performance on unseen data\n",
    "    epochs=epochs,           # Number of training cycles, referencing the variable set earlier\n",
    "    class_weight=class_weights,  # Handles class imbalances by assigning appropriate weights\n",
    "    batch_size=32,           # Number of samples processed in each training step\n",
    "    callbacks=[early]        # Implements early stopping to prevent unnecessary training\n",
    ")"
   ]
  },
  {
   "cell_type": "code",
   "execution_count": null,
   "id": "bb728268-56a3-44fb-ad76-2c17ec120c5c",
   "metadata": {},
   "outputs": [],
   "source": [
    "# 📝 Summary (optional but useful)\n",
    "model.summary()\n"
   ]
  },
  {
   "cell_type": "code",
   "execution_count": null,
   "id": "7a6f5d06-7884-49ba-b74f-99fa18ee6c69",
   "metadata": {},
   "outputs": [],
   "source": [
    "base_model.summary() # Print the architecture summary of the base model"
   ]
  },
  {
   "cell_type": "markdown",
   "id": "b800f503-2843-4b5a-ade9-3ebf7c01ecd6",
   "metadata": {},
   "source": [
    "# Model Performance Visualization: Accuracy & Loss Trends"
   ]
  },
  {
   "cell_type": "code",
   "execution_count": null,
   "id": "ebf163b9-3b14-422c-a24e-2abbf7dc8989",
   "metadata": {},
   "outputs": [],
   "source": [
    "acc = history.history['accuracy']          # Extract training accuracy from history\n",
    "val_acc = history.history['val_accuracy']  # Extract validation accuracy from history\n",
    "loss = history.history['loss']             # Extract training loss from history\n",
    "val_loss = history.history['val_loss']     # Extract validation loss from history\n",
    "\n",
    "epochs_range = range(len(acc))             # Define range for epochs based on accuracy length\n",
    "\n",
    "plt.figure(figsize=(10,8))                 # Set overall figure size for visualization\n",
    "\n",
    "plt.subplot(1,2,1)                         # Create first subplot (1 row, 2 columns, position 1)\n",
    "plt.plot(epochs_range, acc, label='Training Accuracy')       # Plot training accuracy\n",
    "plt.plot(epochs_range, val_acc, label='Validation Accuracy') # Plot validation accuracy\n",
    "plt.legend(loc='lower right')              # Place legend in lower-right corner\n",
    "plt.title('Training vs Validation Accuracy') # Add title for accuracy plot\n",
    "\n",
    "plt.subplot(1,2,2)                         # Create second subplot (1 row, 2 columns, position 2)\n",
    "plt.plot(epochs_range, loss, label='Training Loss')         # Plot training loss\n",
    "plt.plot(epochs_range, val_loss, label='Validation Loss')   # Plot validation loss\n",
    "plt.legend(loc='upper right')              # Place legend in upper-right corner\n",
    "plt.title('Training vs Validation Loss')   # Add title for loss plot\n",
    "\n",
    "plt.show()                                 # Display the plots"
   ]
  },
  {
   "cell_type": "code",
   "execution_count": null,
   "id": "dbc38341-3066-46bb-80b3-e164b1739cc9",
   "metadata": {},
   "outputs": [],
   "source": [
    "loss, accuracy = model.evaluate(test_ds_eval)\n",
    "print(f'Test accuracy is{accuracy:.4f}, Test loss is {loss:.4f}')"
   ]
  },
  {
   "cell_type": "code",
   "execution_count": null,
   "id": "1bfdce18-115c-428b-9246-8a1f5cd94f06",
   "metadata": {},
   "outputs": [],
   "source": [
    "# Extract true labels from all batches in the test dataset\n",
    "y_true = np.concatenate([y.numpy() for x, y in test_ds_eval], axis=0)  # Convert Tensor labels to NumPy array and concatenate them\n",
    "\n",
    "# Get predictions as probabilities from the model\n",
    "y_pred_probs = model.predict(test_ds_eval)  # Predict class probabilities for each sample in the test dataset\n",
    "\n",
    "# Convert probabilities to predicted class indices\n",
    "y_pred = np.argmax(y_pred_probs, axis=1)  # Select the class with the highest probability for each sample\n",
    "\n",
    "# Compute the confusion matrix to evaluate classification performance\n",
    "cm = confusion_matrix(y_true, y_pred)  # Generate confusion matrix comparing true labels to predicted labels\n",
    "\n",
    "# Print metrics to assess model performance\n",
    "print(cm)  # Display confusion matrix\n",
    "print(classification_report(y_true, y_pred))  # Print precision, recall, and F1-score for each class\n"
   ]
  },
  {
   "cell_type": "code",
   "execution_count": null,
   "id": "9d10b303-4f28-4b6b-9d5c-f89f4ba96cc3",
   "metadata": {},
   "outputs": [],
   "source": [
    "plt.figure(figsize=(10,8))  # Set figure size for better visualization\n",
    "\n",
    "sns.heatmap(cm, annot=True, fmt='d',  # Create heatmap using confusion matrix\n",
    "            xticklabels=class_names,  # Set class names for x-axis (predicted labels)\n",
    "            yticklabels=class_names,  # Set class names for y-axis (true labels)\n",
    "            cmap='Blues')  # Use a blue colormap for better contrast\n",
    "\n",
    "plt.xlabel('Predicted')  # Label x-axis as Predicted classes\n",
    "plt.ylabel('True')  # Label y-axis as True classes\n",
    "plt.title('Confusion Matrix')  # Add title to the heatmap\n",
    "plt.show()  # Display the plot"
   ]
  },
  {
   "cell_type": "markdown",
   "id": "44202923-4802-448b-b322-7d742b55bfa6",
   "metadata": {},
   "source": [
    "## 7.  Final Testing and Save the Model\n",
    "- Evaluate the final model on the unseen **test dataset**."
   ]
  },
  {
   "cell_type": "code",
   "execution_count": null,
   "id": "863d925a-0ca8-4e03-9cc9-5b5a9d8b4103",
   "metadata": {},
   "outputs": [],
   "source": [
    "# Extract class names from the training dataset\n",
    "class_names = train_ds.class_names  \n",
    "\n",
    "# Take one batch of images and labels from the test dataset for evaluation\n",
    "for images, labels in test_ds_eval.take(1):  \n",
    "\n",
    "    # Generate predictions for the batch of images\n",
    "    predictions = model.predict(images)  \n",
    "\n",
    "    # Get the predicted class index for each image\n",
    "    pred_labels = tf.argmax(predictions, axis=1)  \n",
    "\n",
    "    # Loop through the first 8 images in the batch\n",
    "    for i in range(8):  \n",
    "        plt.imshow(images[i].numpy().astype(\"uint8\"))  # Convert and display image\n",
    "        plt.title(f\"True: {class_names[labels[i]]}, Pred: {class_names[pred_labels[i]]}\")  # Show actual and predicted class\n",
    "        plt.axis(\"off\")  # Hide axes for better visualization\n",
    "        plt.show()  # Display the image with title"
   ]
  },
  {
   "cell_type": "markdown",
   "id": "8aff71bd-bab7-480f-b57f-2416b8d4071a",
   "metadata": {},
   "source": [
    "**Save the trained model using `model.save()` or `save_model()` for future inference.**"
   ]
  },
  {
   "cell_type": "code",
   "execution_count": null,
   "id": "5bf4d17c-f84e-4ca3-8355-35c6ea81d47e",
   "metadata": {},
   "outputs": [],
   "source": [
    "# Save model in Keras format with architecture, weights, and training configuration\n",
    "model.save('Effiicientnetv2b2.keras')\n",
    "\n",
    "# Load your Keras model\n",
    "model = tf.keras.models.load_model('Effiicientnetv2b2.keras')"
   ]
  },
  {
   "cell_type": "markdown",
   "id": "8755a4fe-818b-40d1-b385-e6a3e21696d5",
   "metadata": {},
   "source": [
    "\n",
    "## 8.  Model Deployment (Optional)\n",
    "- Create a web interface using **Gradio**.\n",
    "- Load the saved model and preprocess input images before prediction."
   ]
  },
  {
   "cell_type": "code",
   "execution_count": null,
   "id": "e2c9067b-ed30-4855-998c-622bd6bfb57c",
   "metadata": {},
   "outputs": [],
   "source": [
    "!pip install gradio"
   ]
  },
  {
   "cell_type": "code",
   "execution_count": null,
   "id": "65f2e86d-1064-4481-8e05-486cbdaa8177",
   "metadata": {},
   "outputs": [],
   "source": [
    "from tensorflow.keras.applications.efficientnet_v2 import preprocess_input"
   ]
  },
  {
   "cell_type": "code",
   "execution_count": null,
   "id": "94e7f957-d903-44ff-9f19-c4a25c4e212f",
   "metadata": {},
   "outputs": [],
   "source": [
    "def classify_image(img):  \n",
    "    # Resize image to 124x124 pixels (Note: Comment says 128x128, but code resizes to 124x124)\n",
    "    img = img.resize((124, 124))  \n",
    "    \n",
    "    # Convert image to a NumPy array with float32 dtype\n",
    "    img_array = np.array(img, dtype=np.float32)  \n",
    "    img_array = preprocess_input(img_array)\n",
    "    \n",
    "    # Expand dimensions to match model input shape (adds a batch dimension)\n",
    "    img_array = np.expand_dims(img_array, axis=0)  \n",
    "    \n",
    "    # Make a prediction using the trained model\n",
    "    prediction = model.predict(img_array)  \n",
    "    \n",
    "    # Get the index of the highest predicted probability\n",
    "    predicted_class_index = np.argmax(prediction)  \n",
    "    \n",
    "    # Map the predicted index to its corresponding class name\n",
    "    predicted_class_name = class_names[predicted_class_index]  \n",
    "    \n",
    "    # Extract confidence score (probability of the predicted class)\n",
    "    confidence = prediction[0][predicted_class_index]  \n",
    "    \n",
    "    # Return formatted prediction result with confidence score\n",
    "    return f\"Predicted: {predicted_class_name} (Confidence: {confidence:.2f})\"  "
   ]
  },
  {
   "cell_type": "code",
   "execution_count": null,
   "id": "d1632d69-dad1-4272-af0a-b49b4ee35e42",
   "metadata": {},
   "outputs": [],
   "source": [
    "iface = gr.Interface(  \n",
    "    fn=classify_image,  # Function to classify image using the trained model  \n",
    "    inputs=gr.Image(type=\"pil\"),  # Accepts input as a PIL image  \n",
    "    outputs=\"text\"  # Outputs prediction as text  \n",
    ")  \n",
    "\n",
    "# Launch the interface  \n",
    "iface.launch()  # Start the Gradio interface for user interaction  "
   ]
  }
 ],
 "metadata": {
  "kernelspec": {
   "display_name": "Python 3",
   "language": "python",
   "name": "python3"
  },
  "language_info": {
   "codemirror_mode": {
    "name": "ipython",
    "version": 3
   },
   "file_extension": ".py",
   "mimetype": "text/x-python",
   "name": "python",
   "nbconvert_exporter": "python",
   "pygments_lexer": "ipython3",
   "version": "3.11.6"
  }
 },
 "nbformat": 4,
 "nbformat_minor": 5
}
